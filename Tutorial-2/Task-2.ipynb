{
 "cells": [
  {
   "cell_type": "code",
   "execution_count": 1,
   "id": "specific-james",
   "metadata": {},
   "outputs": [],
   "source": [
    "import numpy as np\n",
    "import seaborn as sns\n",
    "import matplotlib.pyplot as plt\n",
    "%matplotlib inline\n",
    "x = np.array([1,2,3])\n",
    "y = np.array([1.2,1.9,3.2])\n",
    "size = len(x)\n",
    "sum_xy = np.dot(x,np.transpose(y))\n",
    "sum_x = x.sum()\n",
    "sum_y = y.sum()\n",
    "sum_xxt = np.dot(x,np.transpose(x))\n",
    "w1 = ((size*sum_xy)-(sum_x*sum_y))/((size*sum_xxt)-(sum_x**2))\n",
    "w0 = ((sum_y*sum_xxt)-(sum_xy*sum_x))/((size*sum_xxt)-(sum_x**2))\n",
    "y_hat = []\n",
    "for i in range(0,size):\n",
    "    temp = w0 + w1*x[i]\n",
    "    y_hat.append(temp)\n",
    "y_hat = np.array(y_hat)\n",
    "sns.lineplot(x,y_hat)\n",
    "sns.scatterplot(x,y,color='pink')"
   ]
  },
  {
   "cell_type": "code",
   "execution_count": null,
   "id": "backed-freedom",
   "metadata": {},
   "outputs": [],
   "source": []
  },
  {
   "cell_type": "code",
   "execution_count": null,
   "id": "synthetic-weapon",
   "metadata": {},
   "outputs": [],
   "source": []
  }
 ],
 "metadata": {
  "kernelspec": {
   "display_name": "Python 3",
   "language": "python",
   "name": "python3"
  },
  "language_info": {
   "codemirror_mode": {
    "name": "ipython",
    "version": 3
   },
   "file_extension": ".py",
   "mimetype": "text/x-python",
   "name": "python",
   "nbconvert_exporter": "python",
   "pygments_lexer": "ipython3",
   "version": "3.6.9"
  }
 },
 "nbformat": 4,
 "nbformat_minor": 5
}
